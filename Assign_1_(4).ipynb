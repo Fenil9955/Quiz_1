{
  "nbformat": 4,
  "nbformat_minor": 0,
  "metadata": {
    "colab": {
      "provenance": [],
      "collapsed_sections": []
    },
    "kernelspec": {
      "name": "python3",
      "display_name": "Python 3"
    },
    "language_info": {
      "name": "python"
    }
  },
  "cells": [
    {
      "cell_type": "code",
      "source": [
        "import pandas as pd\n",
        "import numpy as np\n",
        "from sklearn import datasets\n",
        "from sklearn.model_selection import train_test_split\n",
        "from sklearn.linear_model import LogisticRegression\n",
        "import matplotlib.pyplot as plt\n",
        "\n",
        "datas = datasets.load_iris()"
      ],
      "metadata": {
        "id": "pjrYer9YXyrC"
      },
      "execution_count": 27,
      "outputs": []
    },
    {
      "cell_type": "code",
      "source": [
        "setosa = (datas[\"target\"] == 0)\n",
        "versicolor = (datas[\"target\"] == 1)\n",
        "virginica = (datas[\"target\"] == 2)\n",
        "X = datas[\"data\"]\n",
        "Y = datas[\"target\"]"
      ],
      "metadata": {
        "id": "9Ga0xbH3YhV4"
      },
      "execution_count": 28,
      "outputs": []
    },
    {
      "cell_type": "code",
      "source": [
        "X1 = X[:,:2]\n",
        "X2 = X[:,2:]\n",
        "X1.shape,X2.shape"
      ],
      "metadata": {
        "colab": {
          "base_uri": "https://localhost:8080/"
        },
        "id": "AZ-G1IYEF3fy",
        "outputId": "8a831168-7ebe-4518-e1ae-27001614e601"
      },
      "execution_count": 29,
      "outputs": [
        {
          "output_type": "execute_result",
          "data": {
            "text/plain": [
              "((150, 2), (150, 2))"
            ]
          },
          "metadata": {},
          "execution_count": 29
        }
      ]
    },
    {
      "cell_type": "code",
      "execution_count": 30,
      "metadata": {
        "colab": {
          "base_uri": "https://localhost:8080/",
          "height": 295
        },
        "id": "c24ac824",
        "outputId": "18e80ffc-e617-4eaf-fcb8-a6159ddfee30"
      },
      "outputs": [
        {
          "output_type": "display_data",
          "data": {
            "text/plain": [
              "<Figure size 432x288 with 1 Axes>"
            ],
            "image/png": "[encoded data removed]"
          },
          "metadata": {
            "needs_background": "light"
          }
        }
      ],
      "source": [
        "x_train = X2\n",
        "y_train = Y\n",
        "\n",
        "log_reg = LogisticRegression()\n",
        "log_reg.fit(x_train, y_train)\n",
        "\n",
        "min_x_0, max_x_0 = min(x_train[:,0]), max(x_train[:,0])\n",
        "min_x_1, max_x_1 = min(x_train[:,1]), max(x_train[:,1])\n",
        "\n",
        "x0, x1 = np.meshgrid(np.linspace(min_x_0, max_x_0, 400).reshape(-1, 1), np.linspace(min_x_1, max_x_1, 200).reshape(-1, 1))\n",
        "x_shape = np.c_[x0.ravel(), x1.ravel()]\n",
        "    \n",
        "    \n",
        "x_pred = log_reg.predict(x_shape)\n",
        "\n",
        "left_right = np.array([min(x_train[:,0]), max(x_train[:,0])])\n",
        "b1 = -(log_reg.coef_[0][0] * left_right + log_reg.intercept_[0]) / log_reg.coef_[0][1]\n",
        "b2 = -(log_reg.coef_[1][0] * left_right + log_reg.intercept_[1]) / log_reg.coef_[1][1]\n",
        "b3 = -(log_reg.coef_[2][0] * left_right + log_reg.intercept_[2]) / log_reg.coef_[2][1]\n",
        "\n",
        "x_0 = x_shape[x_pred==0]\n",
        "plt.scatter(x_0[:,0],x_0[:,1],color='green')\n",
        "x_1 = x_shape[x_pred==1]\n",
        "plt.scatter(x_1[:,0],x_1[:,1],color='orange')\n",
        "x_2 = x_shape[x_pred==2]\n",
        "plt.scatter(x_2[:,0],x_2[:,1],color='red')\n",
        "\n",
        "plt.plot(left_right, b1, linestyle='--',color='green', label = 'Setosa', linewidth=2.5)\n",
        "plt.plot(left_right, b2, linestyle='--',color='orange', label= 'Versicolor', linewidth=2.5)\n",
        "plt.plot(left_right, b3, linestyle='--',color='red', label='Virginica', linewidth=2.5)\n",
        "plt.xlabel('Petal length')\n",
        "plt.ylabel('Petal width')\n",
        "plt.legend()\n",
        "plt.title(\"Petal\")    \n",
        "\n",
        "plt.show()"
      ]
    }
  ]
}